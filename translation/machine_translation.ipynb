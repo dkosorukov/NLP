{
 "cells": [
  {
   "cell_type": "markdown",
   "metadata": {
    "collapsed": true
   },
   "source": [
    "# Artificial Intelligence Nanodegree\n",
    "## Machine Translation Project\n",
    "In this notebook, sections that end with **'(IMPLEMENTATION)'** in the header indicate that the following blocks of code will require additional functionality which you must provide. Please be sure to read the instructions carefully!\n",
    "\n",
    "## Introduction\n",
    "In this notebook, you will build a deep neural network that functions as part of an end-to-end machine translation pipeline. Your completed pipeline will accept English text as input and return the French translation.\n",
    "\n",
    "- **Preprocess** - You'll convert text to sequence of integers.\n",
    "- **Models** Create models which accepts a sequence of integers as input and returns a probability distribution over possible translations. After learning about the basic types of neural networks that are often used for machine translation, you will engage in your own investigations, to design your own model!\n",
    "- **Prediction** Run the model on English text."
   ]
  },
  {
   "cell_type": "code",
   "execution_count": 1,
   "metadata": {},
   "outputs": [],
   "source": [
    "%load_ext autoreload\n",
    "%aimport helper, tests\n",
    "%autoreload 1"
   ]
  },
  {
   "cell_type": "code",
   "execution_count": 2,
   "metadata": {},
   "outputs": [
    {
     "name": "stderr",
     "output_type": "stream",
     "text": [
      "Using TensorFlow backend.\n"
     ]
    }
   ],
   "source": [
    "import collections\n",
    "\n",
    "import helper\n",
    "import numpy as np\n",
    "import project_tests as tests\n",
    "import matplotlib.pyplot as plt\n",
    "\n",
    "from keras.preprocessing.text import Tokenizer\n",
    "from keras.preprocessing.sequence import pad_sequences\n",
    "from keras.models import Model, Sequential\n",
    "from keras.layers import GRU, Input, Dense, TimeDistributed, Activation, RepeatVector, Bidirectional\n",
    "from keras.layers.embeddings import Embedding\n",
    "from keras.optimizers import Adam\n",
    "from keras.losses import sparse_categorical_crossentropy"
   ]
  },
  {
   "cell_type": "markdown",
   "metadata": {},
   "source": [
    "### Verify access to the GPU\n",
    "The following test applies only if you expect to be using a GPU, e.g., while running in a Udacity Workspace or using an AWS instance with GPU support. Run the next cell, and verify that the device_type is \"GPU\".\n",
    "- If the device is not GPU & you are running from a Udacity Workspace, then save your workspace with the icon at the top, then click \"enable\" at the bottom of the workspace.\n",
    "- If the device is not GPU & you are running from an AWS instance, then refer to the cloud computing instructions in the classroom to verify your setup steps."
   ]
  },
  {
   "cell_type": "code",
   "execution_count": 3,
   "metadata": {},
   "outputs": [
    {
     "name": "stdout",
     "output_type": "stream",
     "text": [
      "[name: \"/cpu:0\"\n",
      "device_type: \"CPU\"\n",
      "memory_limit: 268435456\n",
      "locality {\n",
      "}\n",
      "incarnation: 8059151003798074064\n",
      ", name: \"/gpu:0\"\n",
      "device_type: \"GPU\"\n",
      "memory_limit: 357433344\n",
      "locality {\n",
      "  bus_id: 1\n",
      "}\n",
      "incarnation: 6995978640236485475\n",
      "physical_device_desc: \"device: 0, name: Tesla K80, pci bus id: 0000:00:04.0\"\n",
      "]\n"
     ]
    }
   ],
   "source": [
    "from tensorflow.python.client import device_lib\n",
    "print(device_lib.list_local_devices())"
   ]
  },
  {
   "cell_type": "markdown",
   "metadata": {},
   "source": [
    "## Dataset\n",
    "We begin by investigating the dataset that will be used to train and evaluate your pipeline.  The most common datasets used for machine translation are from [WMT](http://www.statmt.org/).  However, that will take a long time to train a neural network on.  We'll be using a dataset we created for this project that contains a small vocabulary.  You'll be able to train your model in a reasonable time with this dataset.\n",
    "### Load Data\n",
    "The data is located in `data/small_vocab_en` and `data/small_vocab_fr`. The `small_vocab_en` file contains English sentences with their French translations in the `small_vocab_fr` file. Load the English and French data from these files from running the cell below."
   ]
  },
  {
   "cell_type": "code",
   "execution_count": 4,
   "metadata": {},
   "outputs": [
    {
     "name": "stdout",
     "output_type": "stream",
     "text": [
      "Dataset Loaded\n"
     ]
    }
   ],
   "source": [
    "# Load English data\n",
    "english_sentences = helper.load_data('data/small_vocab_en')\n",
    "# Load French data\n",
    "french_sentences = helper.load_data('data/small_vocab_fr')\n",
    "\n",
    "print('Dataset Loaded')"
   ]
  },
  {
   "cell_type": "markdown",
   "metadata": {},
   "source": [
    "### Files\n",
    "Each line in `small_vocab_en` contains an English sentence with the respective translation in each line of `small_vocab_fr`.  View the first two lines from each file."
   ]
  },
  {
   "cell_type": "code",
   "execution_count": 5,
   "metadata": {},
   "outputs": [
    {
     "name": "stdout",
     "output_type": "stream",
     "text": [
      "small_vocab_en Line 1:  new jersey is sometimes quiet during autumn , and it is snowy in april .\n",
      "small_vocab_fr Line 1:  new jersey est parfois calme pendant l' automne , et il est neigeux en avril .\n",
      "small_vocab_en Line 2:  the united states is usually chilly during july , and it is usually freezing in november .\n",
      "small_vocab_fr Line 2:  les états-unis est généralement froid en juillet , et il gèle habituellement en novembre .\n"
     ]
    }
   ],
   "source": [
    "for sample_i in range(2):\n",
    "    print('small_vocab_en Line {}:  {}'.format(sample_i + 1, english_sentences[sample_i]))\n",
    "    print('small_vocab_fr Line {}:  {}'.format(sample_i + 1, french_sentences[sample_i]))"
   ]
  },
  {
   "cell_type": "markdown",
   "metadata": {},
   "source": [
    "From looking at the sentences, you can see they have been preprocessed already.  The puncuations have been delimited using spaces. All the text have been converted to lowercase.  This should save you some time, but the text requires more preprocessing.\n",
    "### Vocabulary\n",
    "The complexity of the problem is determined by the complexity of the vocabulary.  A more complex vocabulary is a more complex problem.  Let's look at the complexity of the dataset we'll be working with."
   ]
  },
  {
   "cell_type": "code",
   "execution_count": 6,
   "metadata": {},
   "outputs": [
    {
     "name": "stdout",
     "output_type": "stream",
     "text": [
      "1823250 English words.\n",
      "227 unique English words.\n",
      "10 Most common words in the English dataset:\n",
      "\"is\" \",\" \".\" \"in\" \"it\" \"during\" \"the\" \"but\" \"and\" \"sometimes\"\n",
      "\n",
      "1961295 French words.\n",
      "355 unique French words.\n",
      "10 Most common words in the French dataset:\n",
      "\"est\" \".\" \",\" \"en\" \"il\" \"les\" \"mais\" \"et\" \"la\" \"parfois\"\n"
     ]
    }
   ],
   "source": [
    "english_words_counter = collections.Counter([word for sentence in english_sentences for word in sentence.split()])\n",
    "french_words_counter = collections.Counter([word for sentence in french_sentences for word in sentence.split()])\n",
    "\n",
    "print('{} English words.'.format(len([word for sentence in english_sentences for word in sentence.split()])))\n",
    "print('{} unique English words.'.format(len(english_words_counter)))\n",
    "print('10 Most common words in the English dataset:')\n",
    "print('\"' + '\" \"'.join(list(zip(*english_words_counter.most_common(10)))[0]) + '\"')\n",
    "print()\n",
    "print('{} French words.'.format(len([word for sentence in french_sentences for word in sentence.split()])))\n",
    "print('{} unique French words.'.format(len(french_words_counter)))\n",
    "print('10 Most common words in the French dataset:')\n",
    "print('\"' + '\" \"'.join(list(zip(*french_words_counter.most_common(10)))[0]) + '\"')"
   ]
  },
  {
   "cell_type": "markdown",
   "metadata": {},
   "source": [
    "For comparison, _Alice's Adventures in Wonderland_ contains 2,766 unique words of a total of 15,500 words.\n",
    "## Preprocess\n",
    "For this project, you won't use text data as input to your model. Instead, you'll convert the text into sequences of integers using the following preprocess methods:\n",
    "1. Tokenize the words into ids\n",
    "2. Add padding to make all the sequences the same length.\n",
    "\n",
    "Time to start preprocessing the data...\n",
    "### Tokenize (IMPLEMENTATION)\n",
    "For a neural network to predict on text data, it first has to be turned into data it can understand. Text data like \"dog\" is a sequence of ASCII character encodings.  Since a neural network is a series of multiplication and addition operations, the input data needs to be number(s).\n",
    "\n",
    "We can turn each character into a number or each word into a number.  These are called character and word ids, respectively.  Character ids are used for character level models that generate text predictions for each character.  A word level model uses word ids that generate text predictions for each word.  Word level models tend to learn better, since they are lower in complexity, so we'll use those.\n",
    "\n",
    "Turn each sentence into a sequence of words ids using Keras's [`Tokenizer`](https://keras.io/preprocessing/text/#tokenizer) function. Use this function to tokenize `english_sentences` and `french_sentences` in the cell below.\n",
    "\n",
    "Running the cell will run `tokenize` on sample data and show output for debugging."
   ]
  },
  {
   "cell_type": "code",
   "execution_count": 7,
   "metadata": {},
   "outputs": [
    {
     "name": "stdout",
     "output_type": "stream",
     "text": [
      "{'the': 1, 'quick': 2, 'a': 3, 'brown': 4, 'fox': 5, 'jumps': 6, 'over': 7, 'lazy': 8, 'dog': 9, 'by': 10, 'jove': 11, 'my': 12, 'study': 13, 'of': 14, 'lexicography': 15, 'won': 16, 'prize': 17, 'this': 18, 'is': 19, 'short': 20, 'sentence': 21}\n",
      "\n",
      "Sequence 1 in x\n",
      "  Input:  The quick brown fox jumps over the lazy dog .\n",
      "  Output: [1, 2, 4, 5, 6, 7, 1, 8, 9]\n",
      "Sequence 2 in x\n",
      "  Input:  By Jove , my quick study of lexicography won a prize .\n",
      "  Output: [10, 11, 12, 2, 13, 14, 15, 16, 3, 17]\n",
      "Sequence 3 in x\n",
      "  Input:  This is a short sentence .\n",
      "  Output: [18, 19, 3, 20, 21]\n"
     ]
    }
   ],
   "source": [
    "def tokenize(x):\n",
    "    \"\"\"\n",
    "    Tokenize x\n",
    "    :param x: List of sentences/strings to be tokenized\n",
    "    :return: Tuple of (tokenized x data, tokenizer used to tokenize x)\n",
    "    \"\"\"\n",
    "    # TODO: Implement\n",
    "    x_tk = Tokenizer()\n",
    "    x_tk.fit_on_texts(x)\n",
    "    \n",
    "    return x_tk.texts_to_sequences(x), x_tk\n",
    "\n",
    "tests.test_tokenize(tokenize)\n",
    "\n",
    "# Tokenize Example output\n",
    "text_sentences = [\n",
    "    'The quick brown fox jumps over the lazy dog .',\n",
    "    'By Jove , my quick study of lexicography won a prize .',\n",
    "    'This is a short sentence .']\n",
    "text_tokenized, text_tokenizer = tokenize(text_sentences)\n",
    "print(text_tokenizer.word_index)\n",
    "print()\n",
    "for sample_i, (sent, token_sent) in enumerate(zip(text_sentences, text_tokenized)):\n",
    "    print('Sequence {} in x'.format(sample_i + 1))\n",
    "    print('  Input:  {}'.format(sent))\n",
    "    print('  Output: {}'.format(token_sent))"
   ]
  },
  {
   "cell_type": "markdown",
   "metadata": {},
   "source": [
    "### Padding (IMPLEMENTATION)\n",
    "When batching the sequence of word ids together, each sequence needs to be the same length.  Since sentences are dynamic in length, we can add padding to the end of the sequences to make them the same length.\n",
    "\n",
    "Make sure all the English sequences have the same length and all the French sequences have the same length by adding padding to the **end** of each sequence using Keras's [`pad_sequences`](https://keras.io/preprocessing/sequence/#pad_sequences) function."
   ]
  },
  {
   "cell_type": "code",
   "execution_count": 8,
   "metadata": {},
   "outputs": [
    {
     "name": "stdout",
     "output_type": "stream",
     "text": [
      "Sequence 1 in x\n",
      "  Input:  [1 2 4 5 6 7 1 8 9]\n",
      "  Output: [1 2 4 5 6 7 1 8 9 0]\n",
      "Sequence 2 in x\n",
      "  Input:  [10 11 12  2 13 14 15 16  3 17]\n",
      "  Output: [10 11 12  2 13 14 15 16  3 17]\n",
      "Sequence 3 in x\n",
      "  Input:  [18 19  3 20 21]\n",
      "  Output: [18 19  3 20 21  0  0  0  0  0]\n"
     ]
    }
   ],
   "source": [
    "def pad(x, length=None):\n",
    "    \"\"\"\n",
    "    Pad x\n",
    "    :param x: List of sequences.\n",
    "    :param length: Length to pad the sequence to.  If None, use length of longest sequence in x.\n",
    "    :return: Padded numpy array of sequences\n",
    "    \"\"\"\n",
    "    # TODO: Implement\n",
    "    if length is None:\n",
    "        length = max([len(sentence) for sentence in x])\n",
    "        \n",
    "    return pad_sequences(x, maxlen=length, padding='post')\n",
    "\n",
    "tests.test_pad(pad)\n",
    "\n",
    "# Pad Tokenized output\n",
    "test_pad = pad(text_tokenized)\n",
    "for sample_i, (token_sent, pad_sent) in enumerate(zip(text_tokenized, test_pad)):\n",
    "    print('Sequence {} in x'.format(sample_i + 1))\n",
    "    print('  Input:  {}'.format(np.array(token_sent)))\n",
    "    print('  Output: {}'.format(pad_sent))"
   ]
  },
  {
   "cell_type": "markdown",
   "metadata": {},
   "source": [
    "### Preprocess Pipeline\n",
    "Your focus for this project is to build neural network architecture, so we won't ask you to create a preprocess pipeline.  Instead, we've provided you with the implementation of the `preprocess` function."
   ]
  },
  {
   "cell_type": "code",
   "execution_count": 9,
   "metadata": {},
   "outputs": [
    {
     "name": "stdout",
     "output_type": "stream",
     "text": [
      "Data Preprocessed\n",
      "Max English sentence length: 15\n",
      "Max French sentence length: 21\n",
      "English vocabulary size: 199\n",
      "French vocabulary size: 344\n"
     ]
    }
   ],
   "source": [
    "def preprocess(x, y):\n",
    "    \"\"\"\n",
    "    Preprocess x and y\n",
    "    :param x: Feature List of sentences\n",
    "    :param y: Label List of sentences\n",
    "    :return: Tuple of (Preprocessed x, Preprocessed y, x tokenizer, y tokenizer)\n",
    "    \"\"\"\n",
    "    preprocess_x, x_tk = tokenize(x)\n",
    "    preprocess_y, y_tk = tokenize(y)\n",
    "\n",
    "    preprocess_x = pad(preprocess_x)\n",
    "    preprocess_y = pad(preprocess_y)\n",
    "\n",
    "    # Keras's sparse_categorical_crossentropy function requires the labels to be in 3 dimensions\n",
    "    preprocess_y = preprocess_y.reshape(*preprocess_y.shape, 1)\n",
    "\n",
    "    return preprocess_x, preprocess_y, x_tk, y_tk\n",
    "\n",
    "preproc_english_sentences, preproc_french_sentences, english_tokenizer, french_tokenizer =\\\n",
    "    preprocess(english_sentences, french_sentences)\n",
    "    \n",
    "max_english_sequence_length = preproc_english_sentences.shape[1]\n",
    "max_french_sequence_length = preproc_french_sentences.shape[1]\n",
    "english_vocab_size = len(english_tokenizer.word_index)\n",
    "french_vocab_size = len(french_tokenizer.word_index)\n",
    "\n",
    "print('Data Preprocessed')\n",
    "print(\"Max English sentence length:\", max_english_sequence_length)\n",
    "print(\"Max French sentence length:\", max_french_sequence_length)\n",
    "print(\"English vocabulary size:\", english_vocab_size)\n",
    "print(\"French vocabulary size:\", french_vocab_size)"
   ]
  },
  {
   "cell_type": "markdown",
   "metadata": {},
   "source": [
    "## Models\n",
    "In this section, you will experiment with various neural network architectures.\n",
    "You will begin by training four relatively simple architectures.\n",
    "- Model 1 is a simple RNN\n",
    "- Model 2 is a RNN with Embedding\n",
    "- Model 3 is a Bidirectional RNN\n",
    "- Model 4 is an optional Encoder-Decoder RNN\n",
    "\n",
    "After experimenting with the four simple architectures, you will construct a deeper architecture that is designed to outperform all four models.\n",
    "### Ids Back to Text\n",
    "The neural network will be translating the input to words ids, which isn't the final form we want.  We want the French translation.  The function `logits_to_text` will bridge the gab between the logits from the neural network to the French translation.  You'll be using this function to better understand the output of the neural network."
   ]
  },
  {
   "cell_type": "code",
   "execution_count": 26,
   "metadata": {},
   "outputs": [
    {
     "name": "stdout",
     "output_type": "stream",
     "text": [
      "`logits_to_text` function loaded.\n"
     ]
    }
   ],
   "source": [
    "def logits_to_text(logits, tokenizer):\n",
    "    \"\"\"\n",
    "    Turn logits from a neural network into text using the tokenizer\n",
    "    :param logits: Logits from a neural network\n",
    "    :param tokenizer: Keras Tokenizer fit on the labels\n",
    "    :return: String that represents the text of the logits\n",
    "    \"\"\"\n",
    "    index_to_words = {id: word for word, id in tokenizer.word_index.items()}\n",
    "    index_to_words[0] = '<PAD>'\n",
    "\n",
    "    return ' '.join([index_to_words[prediction] for prediction in np.argmax(logits, 1)])\n",
    "\n",
    "print('`logits_to_text` function loaded.')"
   ]
  },
  {
   "cell_type": "code",
   "execution_count": 10,
   "metadata": {},
   "outputs": [],
   "source": [
    "def plotting_results(history):\n",
    "    \"\"\"\n",
    "    Plot results of a model trainig\n",
    "    \"\"\"\n",
    "    acc = history.history['acc']\n",
    "    val_acc = history.history['val_acc']\n",
    "    loss = history.history['loss']\n",
    "    val_loss = history.history['val_loss']\n",
    "    \n",
    "    epochs = range(1, len(acc) + 1)\n",
    "    \n",
    "    plt.plot(epochs, acc, 'bo', label='Training acc')\n",
    "    plt.plot(epochs, val_acc, 'b', label='Validation acc')\n",
    "    plt.title('Training and validation accuracy')\n",
    "    plt.legend()\n",
    "    \n",
    "    plt.figure()\n",
    "    \n",
    "    plt.plot(epochs, loss, 'bo', label='Training loss')\n",
    "    plt.plot(epochs, val_loss, 'b', label='Validation loss')\n",
    "    plt.title('Training and validation loss')\n",
    "    plt.legend()\n",
    "    \n",
    "    plt.show()\n",
    "    \n",
    "    return None\n",
    "    \n",
    "    "
   ]
  },
  {
   "cell_type": "markdown",
   "metadata": {},
   "source": [
    "### Model 1: RNN (IMPLEMENTATION)\n",
    "![RNN](images/rnn.png)\n",
    "A basic RNN model is a good baseline for sequence data.  In this model, you'll build a RNN that translates English to French."
   ]
  },
  {
   "cell_type": "code",
   "execution_count": 23,
   "metadata": {},
   "outputs": [
    {
     "name": "stdout",
     "output_type": "stream",
     "text": [
      "_________________________________________________________________\n",
      "Layer (type)                 Output Shape              Param #   \n",
      "=================================================================\n",
      "input_20 (InputLayer)        (None, 21, 1)             0         \n",
      "_________________________________________________________________\n",
      "gru_20 (GRU)                 (None, 21, 256)           198144    \n",
      "_________________________________________________________________\n",
      "time_distributed_20 (TimeDis (None, 21, 344)           88408     \n",
      "_________________________________________________________________\n",
      "activation_20 (Activation)   (None, 21, 344)           0         \n",
      "=================================================================\n",
      "Total params: 286,552\n",
      "Trainable params: 286,552\n",
      "Non-trainable params: 0\n",
      "_________________________________________________________________\n",
      "Train on 110288 samples, validate on 27573 samples\n",
      "Epoch 1/40\n",
      "110288/110288 [==============================] - 12s 106us/step - loss: 2.5564 - acc: 0.4808 - val_loss: nan - val_acc: 0.5558\n",
      "Epoch 2/40\n",
      "110288/110288 [==============================] - 11s 98us/step - loss: 1.6445 - acc: 0.5869 - val_loss: nan - val_acc: 0.6065\n",
      "Epoch 3/40\n",
      "110288/110288 [==============================] - 11s 98us/step - loss: 1.4324 - acc: 0.6132 - val_loss: nan - val_acc: 0.6176\n",
      "Epoch 4/40\n",
      "110288/110288 [==============================] - 11s 98us/step - loss: 1.3172 - acc: 0.6281 - val_loss: nan - val_acc: 0.6371\n",
      "Epoch 5/40\n",
      "110288/110288 [==============================] - 11s 98us/step - loss: 1.2294 - acc: 0.6449 - val_loss: nan - val_acc: 0.6494\n",
      "Epoch 6/40\n",
      "110288/110288 [==============================] - 11s 98us/step - loss: 1.1636 - acc: 0.6573 - val_loss: nan - val_acc: 0.6620\n",
      "Epoch 7/40\n",
      "110288/110288 [==============================] - 11s 98us/step - loss: 1.1136 - acc: 0.6653 - val_loss: nan - val_acc: 0.6688\n",
      "Epoch 8/40\n",
      "110288/110288 [==============================] - 11s 98us/step - loss: 1.0742 - acc: 0.6701 - val_loss: nan - val_acc: 0.6716\n",
      "Epoch 9/40\n",
      "110288/110288 [==============================] - 11s 98us/step - loss: 1.0406 - acc: 0.6741 - val_loss: nan - val_acc: 0.6702\n",
      "Epoch 10/40\n",
      "110288/110288 [==============================] - 11s 98us/step - loss: 1.0099 - acc: 0.6780 - val_loss: nan - val_acc: 0.6795\n",
      "Epoch 11/40\n",
      "110288/110288 [==============================] - 11s 98us/step - loss: 0.9849 - acc: 0.6834 - val_loss: nan - val_acc: 0.6775\n",
      "Epoch 12/40\n",
      "110288/110288 [==============================] - 11s 98us/step - loss: 0.9618 - acc: 0.6874 - val_loss: nan - val_acc: 0.6879\n",
      "Epoch 13/40\n",
      "110288/110288 [==============================] - 11s 98us/step - loss: 0.9412 - acc: 0.6913 - val_loss: nan - val_acc: 0.6916\n",
      "Epoch 14/40\n",
      "110288/110288 [==============================] - 11s 98us/step - loss: 0.9198 - acc: 0.6957 - val_loss: nan - val_acc: 0.6985\n",
      "Epoch 15/40\n",
      "110288/110288 [==============================] - 11s 98us/step - loss: 0.9032 - acc: 0.6998 - val_loss: nan - val_acc: 0.6992\n",
      "Epoch 16/40\n",
      "110288/110288 [==============================] - 11s 98us/step - loss: 0.8854 - acc: 0.7045 - val_loss: nan - val_acc: 0.7083\n",
      "Epoch 17/40\n",
      "110288/110288 [==============================] - 11s 98us/step - loss: 0.8711 - acc: 0.7097 - val_loss: nan - val_acc: 0.7138\n",
      "Epoch 18/40\n",
      "110288/110288 [==============================] - 11s 98us/step - loss: 0.8507 - acc: 0.7170 - val_loss: nan - val_acc: 0.7250\n",
      "Epoch 19/40\n",
      "110288/110288 [==============================] - 11s 98us/step - loss: 0.8301 - acc: 0.7266 - val_loss: nan - val_acc: 0.7257\n",
      "Epoch 20/40\n",
      "110288/110288 [==============================] - 11s 98us/step - loss: 0.8107 - acc: 0.7361 - val_loss: nan - val_acc: 0.7500\n",
      "Epoch 21/40\n",
      "110288/110288 [==============================] - 11s 98us/step - loss: 0.7901 - acc: 0.7461 - val_loss: nan - val_acc: 0.7516\n",
      "Epoch 22/40\n",
      "110288/110288 [==============================] - 11s 98us/step - loss: 0.7693 - acc: 0.7567 - val_loss: nan - val_acc: 0.7675\n",
      "Epoch 23/40\n",
      "110288/110288 [==============================] - 11s 98us/step - loss: 0.7502 - acc: 0.7654 - val_loss: nan - val_acc: 0.7724\n",
      "Epoch 24/40\n",
      "110288/110288 [==============================] - 11s 98us/step - loss: 0.7374 - acc: 0.7704 - val_loss: nan - val_acc: 0.7773\n",
      "Epoch 25/40\n",
      "110288/110288 [==============================] - 11s 98us/step - loss: 0.7238 - acc: 0.7764 - val_loss: nan - val_acc: 0.7879\n",
      "Epoch 26/40\n",
      "110288/110288 [==============================] - 11s 98us/step - loss: 0.7100 - acc: 0.7808 - val_loss: nan - val_acc: 0.7693\n",
      "Epoch 27/40\n",
      "110288/110288 [==============================] - 11s 98us/step - loss: 0.6989 - acc: 0.7845 - val_loss: nan - val_acc: 0.7898\n",
      "Epoch 28/40\n",
      "110288/110288 [==============================] - 11s 98us/step - loss: 0.6857 - acc: 0.7906 - val_loss: nan - val_acc: 0.7916\n",
      "Epoch 29/40\n",
      "110288/110288 [==============================] - 11s 98us/step - loss: 0.6734 - acc: 0.7950 - val_loss: nan - val_acc: 0.7955\n",
      "Epoch 30/40\n",
      "110288/110288 [==============================] - 11s 98us/step - loss: 0.6647 - acc: 0.7976 - val_loss: nan - val_acc: 0.7973\n",
      "Epoch 31/40\n",
      "110288/110288 [==============================] - 11s 98us/step - loss: 0.6574 - acc: 0.8010 - val_loss: nan - val_acc: 0.8013\n",
      "Epoch 32/40\n",
      "110288/110288 [==============================] - 11s 98us/step - loss: 0.6486 - acc: 0.8033 - val_loss: nan - val_acc: 0.7942\n",
      "Epoch 33/40\n",
      "110288/110288 [==============================] - 11s 98us/step - loss: 0.6436 - acc: 0.8041 - val_loss: nan - val_acc: 0.8056\n",
      "Epoch 34/40\n",
      "110288/110288 [==============================] - 11s 98us/step - loss: 0.6308 - acc: 0.8091 - val_loss: nan - val_acc: 0.8046\n",
      "Epoch 35/40\n",
      "110288/110288 [==============================] - 11s 98us/step - loss: 0.6259 - acc: 0.8100 - val_loss: nan - val_acc: 0.8102\n",
      "Epoch 36/40\n",
      "110288/110288 [==============================] - 11s 98us/step - loss: 0.6172 - acc: 0.8132 - val_loss: nan - val_acc: 0.8074\n",
      "Epoch 37/40\n",
      "110288/110288 [==============================] - 11s 97us/step - loss: 0.6115 - acc: 0.8147 - val_loss: nan - val_acc: 0.8110\n",
      "Epoch 38/40\n",
      "110288/110288 [==============================] - 11s 98us/step - loss: 0.6048 - acc: 0.8161 - val_loss: nan - val_acc: 0.8206\n",
      "Epoch 39/40\n",
      "110288/110288 [==============================] - 11s 98us/step - loss: 0.5977 - acc: 0.8187 - val_loss: nan - val_acc: 0.8231\n",
      "Epoch 40/40\n",
      "110288/110288 [==============================] - 11s 98us/step - loss: 0.5895 - acc: 0.8211 - val_loss: nan - val_acc: 0.8232\n"
     ]
    },
    {
     "data": {
      "image/png": "[encoded data removed]",
      "text/plain": [
       "<matplotlib.figure.Figure at 0x7fabc84433c8>"
      ]
     },
     "metadata": {
      "needs_background": "light"
     },
     "output_type": "display_data"
    },
    {
     "data": {
      "image/png": "[encoded data removed]",
      "text/plain": [
       "<matplotlib.figure.Figure at 0x7fabab6b9320>"
      ]
     },
     "metadata": {
      "needs_background": "light"
     },
     "output_type": "display_data"
    },
    {
     "name": "stdout",
     "output_type": "stream",
     "text": [
      "new jersey est parfois chaud en mois de il est il est en en <PAD> <PAD> <PAD> <PAD> <PAD> <PAD> <PAD>\n"
     ]
    }
   ],
   "source": [
    "def simple_model(input_shape, output_sequence_length, english_vocab_size, french_vocab_size):\n",
    "    \"\"\"\n",
    "    Build and train a basic RNN on x and y\n",
    "    :param input_shape: Tuple of input shape\n",
    "    :param output_sequence_length: Length of output sequence\n",
    "    :param english_vocab_size: Number of unique English words in the dataset\n",
    "    :param french_vocab_size: Number of unique French words in the dataset\n",
    "    :return: Keras model built, but not trained\n",
    "    \"\"\"\n",
    "    # TODO: Build the layers\n",
    "    learning_rate = 0.001\n",
    "    \n",
    "    input_seq = Input(input_shape[1:])\n",
    "    rnn = GRU(256, return_sequences=True)(input_seq)\n",
    "    logits = TimeDistributed(Dense(french_vocab_size))(rnn)\n",
    "    \n",
    "    model = Model(input_seq, Activation('softmax')(logits))\n",
    "    model.compile(loss=sparse_categorical_crossentropy,\n",
    "                  optimizer=Adam(learning_rate),\n",
    "                  metrics=['accuracy']\n",
    "                 )\n",
    "    \n",
    "    return model\n",
    "\n",
    "tests.test_simple_model(simple_model)\n",
    "\n",
    "# Reshaping the input to work with a basic RNN\n",
    "tmp_x = pad(preproc_english_sentences, max_french_sequence_length)\n",
    "tmp_x = tmp_x.reshape((-1, preproc_french_sentences.shape[-2], 1))\n",
    "\n",
    "# Train the neural network\n",
    "simple_rnn_model = simple_model(tmp_x.shape,\n",
    "                                max_french_sequence_length,\n",
    "                                english_vocab_size,\n",
    "                                french_vocab_size\n",
    "                               )\n",
    "simple_rnn_model.summary()\n",
    "history = simple_rnn_model.fit(tmp_x,\n",
    "                               preproc_french_sentences,\n",
    "                               batch_size=1024,\n",
    "                               epochs=40,\n",
    "                               validation_split=0.2\n",
    "                              )\n",
    "\n",
    "plotting_results(history)\n",
    "\n",
    "# Print prediction(s)\n",
    "print(logits_to_text(simple_rnn_model.predict(tmp_x[:1])[0], french_tokenizer))"
   ]
  },
  {
   "cell_type": "markdown",
   "metadata": {},
   "source": [
    "### Model 2: Embedding (IMPLEMENTATION)\n",
    "![RNN](images/embedding.png)\n",
    "You've turned the words into ids, but there's a better representation of a word.  This is called word embeddings.  An embedding is a vector representation of the word that is close to similar words in n-dimensional space, where the n represents the size of the embedding vectors.\n",
    "\n",
    "In this model, you'll create a RNN model using embedding."
   ]
  },
  {
   "cell_type": "code",
   "execution_count": 20,
   "metadata": {},
   "outputs": [
    {
     "name": "stdout",
     "output_type": "stream",
     "text": [
      "_________________________________________________________________\n",
      "Layer (type)                 Output Shape              Param #   \n",
      "=================================================================\n",
      "input_14 (InputLayer)        (None, 21)                0         \n",
      "_________________________________________________________________\n",
      "embedding_14 (Embedding)     (None, 21, 16)            3184      \n",
      "_________________________________________________________________\n",
      "gru_14 (GRU)                 (None, 21, 21)            2394      \n",
      "_________________________________________________________________\n",
      "time_distributed_14 (TimeDis (None, 21, 344)           7568      \n",
      "_________________________________________________________________\n",
      "activation_14 (Activation)   (None, 21, 344)           0         \n",
      "=================================================================\n",
      "Total params: 13,146\n",
      "Trainable params: 13,146\n",
      "Non-trainable params: 0\n",
      "_________________________________________________________________\n",
      "Train on 110288 samples, validate on 27573 samples\n",
      "Epoch 1/40\n",
      "110288/110288 [==============================] - 8s 75us/step - loss: 4.7177 - acc: 0.3929 - val_loss: nan - val_acc: 0.4093\n",
      "Epoch 2/40\n",
      "110288/110288 [==============================] - 8s 68us/step - loss: 3.1277 - acc: 0.4082 - val_loss: nan - val_acc: 0.4093\n",
      "Epoch 3/40\n",
      "110288/110288 [==============================] - 8s 68us/step - loss: 2.9411 - acc: 0.4082 - val_loss: nan - val_acc: 0.4093\n",
      "Epoch 4/40\n",
      "110288/110288 [==============================] - 8s 68us/step - loss: 2.6383 - acc: 0.4292 - val_loss: nan - val_acc: 0.4611\n",
      "Epoch 5/40\n",
      "110288/110288 [==============================] - 8s 68us/step - loss: 2.3313 - acc: 0.4870 - val_loss: nan - val_acc: 0.5222\n",
      "Epoch 6/40\n",
      "110288/110288 [==============================] - 8s 68us/step - loss: 2.0114 - acc: 0.5483 - val_loss: nan - val_acc: 0.5652\n",
      "Epoch 7/40\n",
      "110288/110288 [==============================] - 8s 68us/step - loss: 1.7595 - acc: 0.5856 - val_loss: nan - val_acc: 0.6085\n",
      "Epoch 8/40\n",
      "110288/110288 [==============================] - 8s 68us/step - loss: 1.5616 - acc: 0.6241 - val_loss: nan - val_acc: 0.6423\n",
      "Epoch 9/40\n",
      "110288/110288 [==============================] - 8s 68us/step - loss: 1.4173 - acc: 0.6558 - val_loss: nan - val_acc: 0.6736\n",
      "Epoch 10/40\n",
      "110288/110288 [==============================] - 8s 68us/step - loss: 1.2898 - acc: 0.6886 - val_loss: nan - val_acc: 0.7054\n",
      "Epoch 11/40\n",
      "110288/110288 [==============================] - 8s 68us/step - loss: 1.1784 - acc: 0.7148 - val_loss: nan - val_acc: 0.7277\n",
      "Epoch 12/40\n",
      "110288/110288 [==============================] - 8s 68us/step - loss: 1.0876 - acc: 0.7351 - val_loss: nan - val_acc: 0.7456\n",
      "Epoch 13/40\n",
      "110288/110288 [==============================] - 8s 68us/step - loss: 1.0148 - acc: 0.7522 - val_loss: nan - val_acc: 0.7593\n",
      "Epoch 14/40\n",
      "110288/110288 [==============================] - 8s 68us/step - loss: 0.9567 - acc: 0.7638 - val_loss: nan - val_acc: 0.7688\n",
      "Epoch 15/40\n",
      "110288/110288 [==============================] - 8s 68us/step - loss: 0.9093 - acc: 0.7714 - val_loss: nan - val_acc: 0.7754\n",
      "Epoch 16/40\n",
      "110288/110288 [==============================] - 8s 68us/step - loss: 0.8698 - acc: 0.7777 - val_loss: nan - val_acc: 0.7820\n",
      "Epoch 17/40\n",
      "110288/110288 [==============================] - 8s 68us/step - loss: 0.8356 - acc: 0.7841 - val_loss: nan - val_acc: 0.7884\n",
      "Epoch 18/40\n",
      "110288/110288 [==============================] - 8s 68us/step - loss: 0.8057 - acc: 0.7898 - val_loss: nan - val_acc: 0.7929\n",
      "Epoch 19/40\n",
      "110288/110288 [==============================] - 8s 68us/step - loss: 0.7791 - acc: 0.7945 - val_loss: nan - val_acc: 0.7971\n",
      "Epoch 20/40\n",
      "110288/110288 [==============================] - 8s 68us/step - loss: 0.7550 - acc: 0.7993 - val_loss: nan - val_acc: 0.8021\n",
      "Epoch 21/40\n",
      "110288/110288 [==============================] - 8s 68us/step - loss: 0.7333 - acc: 0.8044 - val_loss: nan - val_acc: 0.8074\n",
      "Epoch 22/40\n",
      "110288/110288 [==============================] - 8s 68us/step - loss: 0.7142 - acc: 0.8086 - val_loss: nan - val_acc: 0.8115\n",
      "Epoch 23/40\n",
      "110288/110288 [==============================] - 8s 68us/step - loss: 0.6966 - acc: 0.8125 - val_loss: nan - val_acc: 0.8145\n",
      "Epoch 24/40\n",
      "110288/110288 [==============================] - 8s 68us/step - loss: 0.6812 - acc: 0.8158 - val_loss: nan - val_acc: 0.8185\n",
      "Epoch 25/40\n",
      "110288/110288 [==============================] - 8s 68us/step - loss: 0.6675 - acc: 0.8188 - val_loss: nan - val_acc: 0.8203\n",
      "Epoch 26/40\n",
      "110288/110288 [==============================] - 8s 68us/step - loss: 0.6552 - acc: 0.8215 - val_loss: nan - val_acc: 0.8236\n",
      "Epoch 27/40\n",
      "110288/110288 [==============================] - 8s 68us/step - loss: 0.6436 - acc: 0.8240 - val_loss: nan - val_acc: 0.8259\n",
      "Epoch 28/40\n",
      "110288/110288 [==============================] - 8s 68us/step - loss: 0.6327 - acc: 0.8263 - val_loss: nan - val_acc: 0.8276\n",
      "Epoch 29/40\n",
      "110288/110288 [==============================] - 8s 68us/step - loss: 0.6232 - acc: 0.8284 - val_loss: nan - val_acc: 0.8297\n",
      "Epoch 30/40\n",
      "110288/110288 [==============================] - 8s 68us/step - loss: 0.6141 - acc: 0.8301 - val_loss: nan - val_acc: 0.8312\n",
      "Epoch 31/40\n",
      "110288/110288 [==============================] - 8s 68us/step - loss: 0.6052 - acc: 0.8321 - val_loss: nan - val_acc: 0.8327\n",
      "Epoch 32/40\n",
      "110288/110288 [==============================] - 8s 68us/step - loss: 0.5971 - acc: 0.8339 - val_loss: nan - val_acc: 0.8352\n",
      "Epoch 33/40\n",
      "110288/110288 [==============================] - 8s 68us/step - loss: 0.5891 - acc: 0.8360 - val_loss: nan - val_acc: 0.8369\n",
      "Epoch 34/40\n",
      "110288/110288 [==============================] - 8s 68us/step - loss: 0.5815 - acc: 0.8378 - val_loss: nan - val_acc: 0.8379\n",
      "Epoch 35/40\n",
      "110288/110288 [==============================] - 8s 68us/step - loss: 0.5743 - acc: 0.8392 - val_loss: nan - val_acc: 0.8398\n",
      "Epoch 36/40\n",
      "110288/110288 [==============================] - 8s 68us/step - loss: 0.5679 - acc: 0.8409 - val_loss: nan - val_acc: 0.8412\n",
      "Epoch 37/40\n",
      "110288/110288 [==============================] - 7s 68us/step - loss: 0.5616 - acc: 0.8422 - val_loss: nan - val_acc: 0.8430\n",
      "Epoch 38/40\n",
      "110288/110288 [==============================] - 8s 68us/step - loss: 0.5554 - acc: 0.8439 - val_loss: nan - val_acc: 0.8450\n",
      "Epoch 39/40\n",
      "110288/110288 [==============================] - 8s 68us/step - loss: 0.5496 - acc: 0.8455 - val_loss: nan - val_acc: 0.8459\n",
      "Epoch 40/40\n",
      "110288/110288 [==============================] - 8s 68us/step - loss: 0.5442 - acc: 0.8470 - val_loss: nan - val_acc: 0.8471\n"
     ]
    },
    {
     "data": {
      "image/png": "[encoded data removed]",
      "text/plain": [
       "<matplotlib.figure.Figure at 0x7fabc01ba7f0>"
      ]
     },
     "metadata": {
      "needs_background": "light"
     },
     "output_type": "display_data"
    },
    {
     "data": {
      "image/png": "[encoded data removed]",
      "text/plain": [
       "<matplotlib.figure.Figure at 0x7fabb15667f0>"
      ]
     },
     "metadata": {
      "needs_background": "light"
     },
     "output_type": "display_data"
    },
    {
     "name": "stdout",
     "output_type": "stream",
     "text": [
      "new jersey est parfois calme en l'automne automne il il est en en en <PAD> <PAD> <PAD> <PAD> <PAD> <PAD> <PAD>\n"
     ]
    }
   ],
   "source": [
    "def embed_model(input_shape, output_sequence_length, english_vocab_size, french_vocab_size):\n",
    "    \"\"\"\n",
    "    Build and train a RNN model using word embedding on x and y\n",
    "    :param input_shape: Tuple of input shape\n",
    "    :param output_sequence_length: Length of output sequence\n",
    "    :param english_vocab_size: Number of unique English words in the dataset\n",
    "    :param french_vocab_size: Number of unique French words in the dataset\n",
    "    :return: Keras model built, but not trained\n",
    "    \"\"\"\n",
    "    # TODO: Implement\n",
    "    learning_rate = 0.001\n",
    "    \n",
    "    inputs = Input(input_shape[1:])\n",
    "    embed = Embedding(english_vocab_size, 16, input_length=output_sequence_length)(inputs)\n",
    "    rnn = GRU(output_sequence_length, return_sequences=True)(embed)\n",
    "    logits = TimeDistributed(Dense(french_vocab_size))(rnn)\n",
    "    \n",
    "       \n",
    "    model = Model(inputs, Activation('softmax')(logits))\n",
    "    model.compile(loss=sparse_categorical_crossentropy,\n",
    "                  optimizer=Adam(learning_rate),\n",
    "                  metrics=['accuracy']\n",
    "                 )\n",
    "       \n",
    "    return model\n",
    "\n",
    "tests.test_embed_model(embed_model)\n",
    "\n",
    "\n",
    "# Reshaping the input to work with a basic RNN\n",
    "tmp_x = pad(preproc_english_sentences, max_french_sequence_length)\n",
    "\n",
    "# Train the neural network\n",
    "embed_rnn_model = embed_model(tmp_x.shape,\n",
    "                              max_french_sequence_length,\n",
    "                              english_vocab_size,\n",
    "                              french_vocab_size\n",
    "                             )\n",
    "embed_rnn_model.summary()\n",
    "history = embed_rnn_model.fit(tmp_x,\n",
    "                              preproc_french_sentences,\n",
    "                              batch_size=1024,\n",
    "                              epochs=40,\n",
    "                              validation_split=0.2\n",
    "                             )\n",
    "plotting_results(history)\n",
    "\n",
    "# Print prediction(s)\n",
    "print(logits_to_text(embed_rnn_model.predict(tmp_x[:1])[0], french_tokenizer))"
   ]
  },
  {
   "cell_type": "markdown",
   "metadata": {},
   "source": [
    "### Model 3: Bidirectional RNNs (IMPLEMENTATION)\n",
    "![RNN](images/bidirectional.png)\n",
    "One restriction of a RNN is that it can't see the future input, only the past.  This is where bidirectional recurrent neural networks come in.  They are able to see the future data."
   ]
  },
  {
   "cell_type": "code",
   "execution_count": 30,
   "metadata": {},
   "outputs": [
    {
     "name": "stdout",
     "output_type": "stream",
     "text": [
      "_________________________________________________________________\n",
      "Layer (type)                 Output Shape              Param #   \n",
      "=================================================================\n",
      "input_17 (InputLayer)        (None, 21)                0         \n",
      "_________________________________________________________________\n",
      "embedding_12 (Embedding)     (None, 21, 16)            3184      \n",
      "_________________________________________________________________\n",
      "bidirectional_4 (Bidirection (None, 21, 42)            4788      \n",
      "_________________________________________________________________\n",
      "time_distributed_7 (TimeDist (None, 21, 344)           14792     \n",
      "_________________________________________________________________\n",
      "activation_7 (Activation)    (None, 21, 344)           0         \n",
      "=================================================================\n",
      "Total params: 22,764\n",
      "Trainable params: 22,764\n",
      "Non-trainable params: 0\n",
      "_________________________________________________________________\n",
      "Train on 110288 samples, validate on 27573 samples\n",
      "Epoch 1/40\n",
      "110288/110288 [==============================] - 12s 110us/step - loss: 4.3212 - acc: 0.3887 - val_loss: nan - val_acc: 0.4093\n",
      "Epoch 2/40\n",
      "110288/110288 [==============================] - 11s 101us/step - loss: 2.7175 - acc: 0.4518 - val_loss: nan - val_acc: 0.4733\n",
      "Epoch 3/40\n",
      "110288/110288 [==============================] - 11s 101us/step - loss: 2.5148 - acc: 0.4748 - val_loss: nan - val_acc: 0.4866\n",
      "Epoch 4/40\n",
      "110288/110288 [==============================] - 11s 101us/step - loss: 2.1864 - acc: 0.5217 - val_loss: nan - val_acc: 0.5506\n",
      "Epoch 5/40\n",
      "110288/110288 [==============================] - 11s 101us/step - loss: 1.8014 - acc: 0.5802 - val_loss: nan - val_acc: 0.6026\n",
      "Epoch 6/40\n",
      "110288/110288 [==============================] - 11s 101us/step - loss: 1.5664 - acc: 0.6161 - val_loss: nan - val_acc: 0.6357\n",
      "Epoch 7/40\n",
      "110288/110288 [==============================] - 11s 101us/step - loss: 1.3862 - acc: 0.6540 - val_loss: nan - val_acc: 0.6773\n",
      "Epoch 8/40\n",
      "110288/110288 [==============================] - 11s 101us/step - loss: 1.2326 - acc: 0.6942 - val_loss: nan - val_acc: 0.7114\n",
      "Epoch 9/40\n",
      "110288/110288 [==============================] - 11s 101us/step - loss: 1.1135 - acc: 0.7236 - val_loss: nan - val_acc: 0.7357\n",
      "Epoch 10/40\n",
      "110288/110288 [==============================] - 11s 101us/step - loss: 1.0217 - acc: 0.7441 - val_loss: nan - val_acc: 0.7520\n",
      "Epoch 11/40\n",
      "110288/110288 [==============================] - 11s 101us/step - loss: 0.9488 - acc: 0.7564 - val_loss: nan - val_acc: 0.7624\n",
      "Epoch 12/40\n",
      "110288/110288 [==============================] - 11s 101us/step - loss: 0.8878 - acc: 0.7672 - val_loss: nan - val_acc: 0.7753\n",
      "Epoch 13/40\n",
      "110288/110288 [==============================] - 11s 101us/step - loss: 0.8355 - acc: 0.7793 - val_loss: nan - val_acc: 0.7851\n",
      "Epoch 14/40\n",
      "110288/110288 [==============================] - 11s 101us/step - loss: 0.7902 - acc: 0.7889 - val_loss: nan - val_acc: 0.7937\n",
      "Epoch 15/40\n",
      "110288/110288 [==============================] - 11s 101us/step - loss: 0.7507 - acc: 0.7980 - val_loss: nan - val_acc: 0.8026\n",
      "Epoch 16/40\n",
      "110288/110288 [==============================] - 11s 101us/step - loss: 0.7160 - acc: 0.8062 - val_loss: nan - val_acc: 0.8099\n",
      "Epoch 17/40\n",
      "110288/110288 [==============================] - 11s 101us/step - loss: 0.6857 - acc: 0.8132 - val_loss: nan - val_acc: 0.8160\n",
      "Epoch 18/40\n",
      "110288/110288 [==============================] - 11s 101us/step - loss: 0.6586 - acc: 0.8193 - val_loss: nan - val_acc: 0.8218\n",
      "Epoch 19/40\n",
      "110288/110288 [==============================] - 11s 101us/step - loss: 0.6348 - acc: 0.8247 - val_loss: nan - val_acc: 0.8279\n",
      "Epoch 20/40\n",
      "110288/110288 [==============================] - 11s 101us/step - loss: 0.6135 - acc: 0.8300 - val_loss: nan - val_acc: 0.8331\n",
      "Epoch 21/40\n",
      "110288/110288 [==============================] - 11s 101us/step - loss: 0.5943 - acc: 0.8346 - val_loss: nan - val_acc: 0.8375\n",
      "Epoch 22/40\n",
      "110288/110288 [==============================] - 11s 101us/step - loss: 0.5769 - acc: 0.8389 - val_loss: nan - val_acc: 0.8415\n",
      "Epoch 23/40\n",
      "110288/110288 [==============================] - 11s 101us/step - loss: 0.5606 - acc: 0.8428 - val_loss: nan - val_acc: 0.8443\n",
      "Epoch 24/40\n",
      "110288/110288 [==============================] - 11s 101us/step - loss: 0.5457 - acc: 0.8461 - val_loss: nan - val_acc: 0.8479\n",
      "Epoch 25/40\n",
      "110288/110288 [==============================] - 11s 101us/step - loss: 0.5322 - acc: 0.8493 - val_loss: nan - val_acc: 0.8502\n",
      "Epoch 26/40\n",
      "110288/110288 [==============================] - 11s 101us/step - loss: 0.5187 - acc: 0.8527 - val_loss: nan - val_acc: 0.8543\n",
      "Epoch 27/40\n",
      "110288/110288 [==============================] - 11s 101us/step - loss: 0.5070 - acc: 0.8554 - val_loss: nan - val_acc: 0.8571\n",
      "Epoch 28/40\n",
      "110288/110288 [==============================] - 11s 101us/step - loss: 0.4956 - acc: 0.8583 - val_loss: nan - val_acc: 0.8597\n",
      "Epoch 29/40\n",
      "110288/110288 [==============================] - 11s 101us/step - loss: 0.4852 - acc: 0.8610 - val_loss: nan - val_acc: 0.8614\n",
      "Epoch 30/40\n",
      "110288/110288 [==============================] - 11s 101us/step - loss: 0.4756 - acc: 0.8634 - val_loss: nan - val_acc: 0.8643\n",
      "Epoch 31/40\n",
      "110288/110288 [==============================] - 11s 101us/step - loss: 0.4664 - acc: 0.8658 - val_loss: nan - val_acc: 0.8665\n",
      "Epoch 32/40\n",
      "110288/110288 [==============================] - 11s 101us/step - loss: 0.4581 - acc: 0.8681 - val_loss: nan - val_acc: 0.8681\n",
      "Epoch 33/40\n",
      "110288/110288 [==============================] - 11s 101us/step - loss: 0.4503 - acc: 0.8700 - val_loss: nan - val_acc: 0.8705\n",
      "Epoch 34/40\n",
      "110288/110288 [==============================] - 11s 101us/step - loss: 0.4434 - acc: 0.8718 - val_loss: nan - val_acc: 0.8724\n",
      "Epoch 35/40\n",
      "110288/110288 [==============================] - 11s 101us/step - loss: 0.4360 - acc: 0.8740 - val_loss: nan - val_acc: 0.8741\n",
      "Epoch 36/40\n",
      "110288/110288 [==============================] - 11s 101us/step - loss: 0.4293 - acc: 0.8759 - val_loss: nan - val_acc: 0.8762\n",
      "Epoch 37/40\n",
      "110288/110288 [==============================] - 11s 101us/step - loss: 0.4233 - acc: 0.8776 - val_loss: nan - val_acc: 0.8778\n",
      "Epoch 38/40\n",
      "110288/110288 [==============================] - 11s 101us/step - loss: 0.4178 - acc: 0.8793 - val_loss: nan - val_acc: 0.8792\n",
      "Epoch 39/40\n",
      "110288/110288 [==============================] - 11s 101us/step - loss: 0.4122 - acc: 0.8808 - val_loss: nan - val_acc: 0.8800\n",
      "Epoch 40/40\n",
      "110288/110288 [==============================] - 11s 101us/step - loss: 0.4072 - acc: 0.8823 - val_loss: nan - val_acc: 0.8823\n"
     ]
    },
    {
     "data": {
      "image/png": "[encoded data removed]",
      "text/plain": [
       "<matplotlib.figure.Figure at 0x7fe30d1f77b8>"
      ]
     },
     "metadata": {
      "needs_background": "light"
     },
     "output_type": "display_data"
    },
    {
     "data": {
      "image/png": "[encoded data removed]",
      "text/plain": [
       "<matplotlib.figure.Figure at 0x7fe307d5a198>"
      ]
     },
     "metadata": {
      "needs_background": "light"
     },
     "output_type": "display_data"
    },
    {
     "name": "stdout",
     "output_type": "stream",
     "text": [
      "new jersey est parfois calme en l' et il est neigeux en avril <PAD> <PAD> <PAD> <PAD> <PAD> <PAD> <PAD> <PAD>\n"
     ]
    }
   ],
   "source": [
    "def bd_model(input_shape, output_sequence_length, english_vocab_size, french_vocab_size):\n",
    "    \"\"\"\n",
    "    Build and train a bidirectional RNN model on x and y\n",
    "    :param input_shape: Tuple of input shape\n",
    "    :param output_sequence_length: Length of output sequence\n",
    "    :param english_vocab_size: Number of unique English words in the dataset\n",
    "    :param french_vocab_size: Number of unique French words in the dataset\n",
    "    :return: Keras model built, but not trained\n",
    "    \"\"\"\n",
    "     # TODO: Implement\n",
    "    learning_rate = 0.001\n",
    "    \n",
    "    inputs = Input(input_shape[1:])\n",
    "    embed = Embedding(english_vocab_size, 16, input_length=output_sequence_length)(inputs)\n",
    "    rnn = Bidirectional(GRU(output_sequence_length, return_sequences=True))(embed)\n",
    "    logits = TimeDistributed(Dense(french_vocab_size))(rnn)\n",
    "    \n",
    "       \n",
    "    model = Model(inputs, Activation('softmax')(logits))\n",
    "    model.compile(loss=sparse_categorical_crossentropy,\n",
    "                  optimizer=Adam(learning_rate),\n",
    "                  metrics=['accuracy'])\n",
    "    \n",
    "    return model\n",
    "\n",
    "# Deactivated to keep embeddings layer to compare to embed_model\n",
    "#tests.test_bd_model(bd_model)\n",
    "\n",
    "\n",
    "# Reshaping the input to work with a basic RNN\n",
    "tmp_x = pad(preproc_english_sentences, max_french_sequence_length)\n",
    "\n",
    "# Train the neural network\n",
    "bd_rnn_model = bd_model(tmp_x.shape,\n",
    "                        max_french_sequence_length,\n",
    "                        english_vocab_size,\n",
    "                        french_vocab_size\n",
    "                       )\n",
    "\n",
    "bd_rnn_model.summary()\n",
    "history = bd_rnn_model.fit(tmp_x,\n",
    "                           preproc_french_sentences,\n",
    "                           batch_size=1024,\n",
    "                           epochs=40,\n",
    "                           validation_split=0.2\n",
    "                          )\n",
    "plotting_results(history)\n",
    "\n",
    "# Print prediction(s)\n",
    "print(logits_to_text(bd_rnn_model.predict(tmp_x[:1])[0], french_tokenizer))"
   ]
  },
  {
   "cell_type": "markdown",
   "metadata": {},
   "source": [
    "### Model 4: Encoder-Decoder (OPTIONAL)\n",
    "Time to look at encoder-decoder models.  This model is made up of an encoder and decoder. The encoder creates a matrix representation of the sentence.  The decoder takes this matrix as input and predicts the translation as output.\n",
    "\n",
    "Create an encoder-decoder model in the cell below."
   ]
  },
  {
   "cell_type": "code",
   "execution_count": 35,
   "metadata": {},
   "outputs": [
    {
     "name": "stdout",
     "output_type": "stream",
     "text": [
      "_________________________________________________________________\n",
      "Layer (type)                 Output Shape              Param #   \n",
      "=================================================================\n",
      "input_22 (InputLayer)        (None, 21)                0         \n",
      "_________________________________________________________________\n",
      "embedding_17 (Embedding)     (None, 21, 16)            3184      \n",
      "_________________________________________________________________\n",
      "gru_27 (GRU)                 (None, 21)                2394      \n",
      "_________________________________________________________________\n",
      "repeat_vector_11 (RepeatVect (None, 21, 21)            0         \n",
      "_________________________________________________________________\n",
      "gru_28 (GRU)                 (None, 21, 128)           57600     \n",
      "_________________________________________________________________\n",
      "time_distributed_11 (TimeDis (None, 21, 344)           44376     \n",
      "_________________________________________________________________\n",
      "activation_11 (Activation)   (None, 21, 344)           0         \n",
      "=================================================================\n",
      "Total params: 107,554\n",
      "Trainable params: 107,554\n",
      "Non-trainable params: 0\n",
      "_________________________________________________________________\n",
      "Train on 110288 samples, validate on 27573 samples\n",
      "Epoch 1/40\n",
      "110288/110288 [==============================] - 14s 126us/step - loss: 3.5260 - acc: 0.4031 - val_loss: nan - val_acc: 0.4424\n",
      "Epoch 2/40\n",
      "110288/110288 [==============================] - 12s 113us/step - loss: 2.6329 - acc: 0.4602 - val_loss: nan - val_acc: 0.4806\n",
      "Epoch 3/40\n",
      "110288/110288 [==============================] - 12s 113us/step - loss: 2.3657 - acc: 0.4900 - val_loss: nan - val_acc: 0.5079\n",
      "Epoch 4/40\n",
      "110288/110288 [==============================] - 12s 113us/step - loss: 2.1815 - acc: 0.5179 - val_loss: nan - val_acc: 0.5308\n",
      "Epoch 5/40\n",
      "110288/110288 [==============================] - 13s 113us/step - loss: 2.0424 - acc: 0.5371 - val_loss: nan - val_acc: 0.5489\n",
      "Epoch 6/40\n",
      "110288/110288 [==============================] - 12s 113us/step - loss: 1.9296 - acc: 0.5516 - val_loss: nan - val_acc: 0.5590\n",
      "Epoch 7/40\n",
      "110288/110288 [==============================] - 12s 113us/step - loss: 1.8562 - acc: 0.5589 - val_loss: nan - val_acc: 0.5629\n",
      "Epoch 8/40\n",
      "110288/110288 [==============================] - 13s 113us/step - loss: 1.8033 - acc: 0.5627 - val_loss: nan - val_acc: 0.5667\n",
      "Epoch 9/40\n",
      "110288/110288 [==============================] - 12s 113us/step - loss: 1.7538 - acc: 0.5670 - val_loss: nan - val_acc: 0.5682\n",
      "Epoch 10/40\n",
      "110288/110288 [==============================] - 13s 114us/step - loss: 1.7133 - acc: 0.5690 - val_loss: nan - val_acc: 0.5715\n",
      "Epoch 11/40\n",
      "110288/110288 [==============================] - 12s 113us/step - loss: 1.6846 - acc: 0.5709 - val_loss: nan - val_acc: 0.5710\n",
      "Epoch 12/40\n",
      "110288/110288 [==============================] - 13s 113us/step - loss: 1.6484 - acc: 0.5753 - val_loss: nan - val_acc: 0.5787\n",
      "Epoch 13/40\n",
      "110288/110288 [==============================] - 12s 113us/step - loss: 1.6224 - acc: 0.5787 - val_loss: nan - val_acc: 0.5804\n",
      "Epoch 14/40\n",
      "110288/110288 [==============================] - 13s 114us/step - loss: 1.5858 - acc: 0.5832 - val_loss: nan - val_acc: 0.5849\n",
      "Epoch 15/40\n",
      "110288/110288 [==============================] - 13s 113us/step - loss: 1.5425 - acc: 0.5871 - val_loss: nan - val_acc: 0.5909\n",
      "Epoch 16/40\n",
      "110288/110288 [==============================] - 12s 113us/step - loss: 1.5082 - acc: 0.5937 - val_loss: nan - val_acc: 0.5996\n",
      "Epoch 17/40\n",
      "110288/110288 [==============================] - 13s 113us/step - loss: 1.4838 - acc: 0.5981 - val_loss: nan - val_acc: 0.5987\n",
      "Epoch 18/40\n",
      "110288/110288 [==============================] - 12s 113us/step - loss: 1.4643 - acc: 0.6006 - val_loss: nan - val_acc: 0.6032\n",
      "Epoch 19/40\n",
      "110288/110288 [==============================] - 12s 113us/step - loss: 1.4455 - acc: 0.6037 - val_loss: nan - val_acc: 0.6032\n",
      "Epoch 20/40\n",
      "110288/110288 [==============================] - 12s 113us/step - loss: 1.4270 - acc: 0.6061 - val_loss: nan - val_acc: 0.6098\n",
      "Epoch 21/40\n",
      "110288/110288 [==============================] - 13s 113us/step - loss: 1.4127 - acc: 0.6088 - val_loss: nan - val_acc: 0.6103\n",
      "Epoch 22/40\n",
      "110288/110288 [==============================] - 12s 113us/step - loss: 1.3993 - acc: 0.6113 - val_loss: nan - val_acc: 0.6143\n",
      "Epoch 23/40\n",
      "110288/110288 [==============================] - 13s 113us/step - loss: 1.3895 - acc: 0.6137 - val_loss: nan - val_acc: 0.6163\n",
      "Epoch 24/40\n",
      "110288/110288 [==============================] - 12s 113us/step - loss: 1.3799 - acc: 0.6156 - val_loss: nan - val_acc: 0.6168\n",
      "Epoch 25/40\n",
      "110288/110288 [==============================] - 12s 113us/step - loss: 1.3719 - acc: 0.6174 - val_loss: nan - val_acc: 0.6199\n",
      "Epoch 26/40\n",
      "110288/110288 [==============================] - 13s 113us/step - loss: 1.3615 - acc: 0.6197 - val_loss: nan - val_acc: 0.6214\n",
      "Epoch 27/40\n",
      "110288/110288 [==============================] - 12s 113us/step - loss: 1.3493 - acc: 0.6231 - val_loss: nan - val_acc: 0.6261\n",
      "Epoch 28/40\n",
      "110288/110288 [==============================] - 12s 113us/step - loss: 1.3484 - acc: 0.6241 - val_loss: nan - val_acc: 0.6283\n",
      "Epoch 29/40\n",
      "110288/110288 [==============================] - 12s 113us/step - loss: 1.3344 - acc: 0.6279 - val_loss: nan - val_acc: 0.6269\n",
      "Epoch 30/40\n",
      "110288/110288 [==============================] - 12s 113us/step - loss: 1.3296 - acc: 0.6288 - val_loss: nan - val_acc: 0.6315\n",
      "Epoch 31/40\n",
      "110288/110288 [==============================] - 12s 113us/step - loss: 1.3262 - acc: 0.6295 - val_loss: nan - val_acc: 0.6335\n",
      "Epoch 32/40\n",
      "110288/110288 [==============================] - 13s 113us/step - loss: 1.3095 - acc: 0.6334 - val_loss: nan - val_acc: 0.6033\n",
      "Epoch 33/40\n",
      "110288/110288 [==============================] - 12s 113us/step - loss: 1.3137 - acc: 0.6321 - val_loss: nan - val_acc: 0.6361\n",
      "Epoch 34/40\n",
      "110288/110288 [==============================] - 12s 113us/step - loss: 1.2993 - acc: 0.6356 - val_loss: nan - val_acc: 0.6366\n",
      "Epoch 35/40\n",
      "110288/110288 [==============================] - 12s 113us/step - loss: 1.3124 - acc: 0.6323 - val_loss: nan - val_acc: 0.6375\n",
      "Epoch 36/40\n",
      "110288/110288 [==============================] - 12s 113us/step - loss: 1.2867 - acc: 0.6387 - val_loss: nan - val_acc: 0.6406\n",
      "Epoch 37/40\n",
      "110288/110288 [==============================] - 12s 113us/step - loss: 1.2868 - acc: 0.6382 - val_loss: nan - val_acc: 0.6376\n",
      "Epoch 38/40\n",
      "110288/110288 [==============================] - 12s 113us/step - loss: 1.2787 - acc: 0.6400 - val_loss: nan - val_acc: 0.6398\n",
      "Epoch 39/40\n",
      "110288/110288 [==============================] - 12s 113us/step - loss: 1.2738 - acc: 0.6407 - val_loss: nan - val_acc: 0.6416\n",
      "Epoch 40/40\n",
      "110288/110288 [==============================] - 12s 113us/step - loss: 1.2731 - acc: 0.6405 - val_loss: nan - val_acc: 0.6384\n"
     ]
    },
    {
     "data": {
      "image/png": "[encoded data removed]",
      "text/plain": [
       "<matplotlib.figure.Figure at 0x7fe3041f22e8>"
      ]
     },
     "metadata": {
      "needs_background": "light"
     },
     "output_type": "display_data"
    },
    {
     "data": {
      "image/png": "[encoded data removed]",
      "text/plain": [
       "<matplotlib.figure.Figure at 0x7fe2fedbb860>"
      ]
     },
     "metadata": {
      "needs_background": "light"
     },
     "output_type": "display_data"
    },
    {
     "name": "stdout",
     "output_type": "stream",
     "text": [
      "new inde est jamais au en mois mais il est parfois est en <PAD> <PAD> <PAD> <PAD> <PAD> <PAD> <PAD> <PAD>\n"
     ]
    }
   ],
   "source": [
    "def encdec_model(input_shape, output_sequence_length, english_vocab_size, french_vocab_size):\n",
    "    \"\"\"\n",
    "    Build and train an encoder-decoder model on x and y\n",
    "    :param input_shape: Tuple of input shape\n",
    "    :param output_sequence_length: Length of output sequence\n",
    "    :param english_vocab_size: Number of unique English words in the dataset\n",
    "    :param french_vocab_size: Number of unique French words in the dataset\n",
    "    :return: Keras model built, but not trained\n",
    "    \"\"\"\n",
    "    # OPTIONAL: Implement\n",
    "    learning_rate = 0.001\n",
    "    encdec_dim = 128\n",
    "    \n",
    "    inputs = Input(input_shape[1:])\n",
    "    embed = Embedding(english_vocab_size, 16, input_length=output_sequence_length)(inputs)\n",
    "    # Encoder\n",
    "    encoder_rnn = GRU(output_sequence_length)(embed)\n",
    "    #encoder_out = Dense(encdec_dim, activation = 'relu')(encoder_rnn)\n",
    "    \n",
    "    # Decoder\n",
    "    decoder_in = RepeatVector(output_sequence_length)(encoder_rnn)\n",
    "    decoder_rnn = GRU(encdec_dim, return_sequences=True)(decoder_in)    \n",
    "    logits = TimeDistributed(Dense(french_vocab_size))(decoder_rnn)\n",
    "    \n",
    "       \n",
    "    model = Model(inputs, Activation('softmax')(logits))\n",
    "    model.compile(loss=sparse_categorical_crossentropy,\n",
    "                  optimizer=Adam(learning_rate),\n",
    "                  metrics=['accuracy']\n",
    "                 )\n",
    "    \n",
    "    return model\n",
    "\n",
    "# Deactivated to keep embeddings layer to compare to embed_model\n",
    "#tests.test_encdec_model(encdec_model)\n",
    "\n",
    "# Reshaping the input to work with a basic RNN\n",
    "tmp_x = pad(preproc_english_sentences, max_french_sequence_length)\n",
    "\n",
    "# Train the neural network\n",
    "encdec_rnn_model = encdec_model(tmp_x.shape,\n",
    "                                max_french_sequence_length,\n",
    "                                english_vocab_size,\n",
    "                                french_vocab_size\n",
    "                               )\n",
    "encdec_rnn_model.summary()\n",
    "history = encdec_rnn_model.fit(tmp_x,\n",
    "                               preproc_french_sentences,\n",
    "                               batch_size=1024,\n",
    "                               epochs=40,\n",
    "                               validation_split=0.2\n",
    "                              )\n",
    "\n",
    "plotting_results(history)\n",
    "# Print prediction(s)\n",
    "print(logits_to_text(encdec_rnn_model.predict(tmp_x[:1])[0], french_tokenizer))"
   ]
  },
  {
   "cell_type": "markdown",
   "metadata": {},
   "source": [
    "### Model 5: Custom (IMPLEMENTATION)\n",
    "Use everything you learned from the previous models to create a model that incorporates embedding and a bidirectional rnn into one model."
   ]
  },
  {
   "cell_type": "code",
   "execution_count": 41,
   "metadata": {},
   "outputs": [
    {
     "name": "stdout",
     "output_type": "stream",
     "text": [
      "Final Model Loaded\n",
      "_________________________________________________________________\n",
      "Layer (type)                 Output Shape              Param #   \n",
      "=================================================================\n",
      "input_31 (InputLayer)        (None, 21)                0         \n",
      "_________________________________________________________________\n",
      "embedding_26 (Embedding)     (None, 21, 16)            3184      \n",
      "_________________________________________________________________\n",
      "bidirectional_18 (Bidirectio (None, 42)                4788      \n",
      "_________________________________________________________________\n",
      "repeat_vector_17 (RepeatVect (None, 21, 42)            0         \n",
      "_________________________________________________________________\n",
      "bidirectional_19 (Bidirectio (None, 21, 256)           131328    \n",
      "_________________________________________________________________\n",
      "time_distributed_17 (TimeDis (None, 21, 344)           88408     \n",
      "_________________________________________________________________\n",
      "activation_17 (Activation)   (None, 21, 344)           0         \n",
      "=================================================================\n",
      "Total params: 227,708\n",
      "Trainable params: 227,708\n",
      "Non-trainable params: 0\n",
      "_________________________________________________________________\n",
      "Train on 110288 samples, validate on 27573 samples\n",
      "Epoch 1/40\n",
      "110288/110288 [==============================] - 24s 214us/step - loss: 3.3019 - acc: 0.4220 - val_loss: nan - val_acc: 0.4643\n",
      "Epoch 2/40\n",
      "110288/110288 [==============================] - 21s 192us/step - loss: 2.4478 - acc: 0.4814 - val_loss: nan - val_acc: 0.5004\n",
      "Epoch 3/40\n",
      "110288/110288 [==============================] - 21s 192us/step - loss: 2.0073 - acc: 0.5099 - val_loss: nan - val_acc: 0.5225\n",
      "Epoch 4/40\n",
      "110288/110288 [==============================] - 21s 192us/step - loss: 1.7733 - acc: 0.5473 - val_loss: nan - val_acc: 0.5741\n",
      "Epoch 5/40\n",
      "110288/110288 [==============================] - 21s 192us/step - loss: 1.5376 - acc: 0.5926 - val_loss: nan - val_acc: 0.6089\n",
      "Epoch 6/40\n",
      "110288/110288 [==============================] - 21s 191us/step - loss: 1.3936 - acc: 0.6195 - val_loss: nan - val_acc: 0.6313\n",
      "Epoch 7/40\n",
      "110288/110288 [==============================] - 21s 191us/step - loss: 1.2969 - acc: 0.6427 - val_loss: nan - val_acc: 0.6526\n",
      "Epoch 8/40\n",
      "110288/110288 [==============================] - 21s 191us/step - loss: 1.2260 - acc: 0.6580 - val_loss: nan - val_acc: 0.6642\n",
      "Epoch 9/40\n",
      "110288/110288 [==============================] - 21s 192us/step - loss: 1.1588 - acc: 0.6787 - val_loss: nan - val_acc: 0.6877\n",
      "Epoch 10/40\n",
      "110288/110288 [==============================] - 21s 192us/step - loss: 1.0952 - acc: 0.6938 - val_loss: nan - val_acc: 0.6976\n",
      "Epoch 11/40\n",
      "110288/110288 [==============================] - 21s 192us/step - loss: 1.0456 - acc: 0.7032 - val_loss: nan - val_acc: 0.7085\n",
      "Epoch 12/40\n",
      "110288/110288 [==============================] - 21s 192us/step - loss: 1.0053 - acc: 0.7121 - val_loss: nan - val_acc: 0.7156\n",
      "Epoch 13/40\n",
      "110288/110288 [==============================] - 21s 193us/step - loss: 0.9728 - acc: 0.7193 - val_loss: nan - val_acc: 0.7224\n",
      "Epoch 14/40\n",
      "110288/110288 [==============================] - 21s 193us/step - loss: 0.9437 - acc: 0.7251 - val_loss: nan - val_acc: 0.7272\n",
      "Epoch 15/40\n",
      "110288/110288 [==============================] - 21s 193us/step - loss: 0.9203 - acc: 0.7294 - val_loss: nan - val_acc: 0.7328\n",
      "Epoch 16/40\n",
      "110288/110288 [==============================] - 21s 192us/step - loss: 0.9002 - acc: 0.7335 - val_loss: nan - val_acc: 0.7370\n",
      "Epoch 17/40\n",
      "110288/110288 [==============================] - 21s 192us/step - loss: 0.8838 - acc: 0.7364 - val_loss: nan - val_acc: 0.7396\n",
      "Epoch 18/40\n",
      "110288/110288 [==============================] - 21s 192us/step - loss: 0.8574 - acc: 0.7428 - val_loss: nan - val_acc: 0.7442\n",
      "Epoch 19/40\n",
      "110288/110288 [==============================] - 21s 192us/step - loss: 0.8398 - acc: 0.7469 - val_loss: nan - val_acc: 0.7505\n",
      "Epoch 20/40\n",
      "110288/110288 [==============================] - 21s 193us/step - loss: 0.8195 - acc: 0.7515 - val_loss: nan - val_acc: 0.7523\n",
      "Epoch 21/40\n",
      "110288/110288 [==============================] - 21s 192us/step - loss: 0.8016 - acc: 0.7555 - val_loss: nan - val_acc: 0.7578\n",
      "Epoch 22/40\n",
      "110288/110288 [==============================] - 21s 192us/step - loss: 0.7814 - acc: 0.7606 - val_loss: nan - val_acc: 0.7627\n",
      "Epoch 23/40\n",
      "110288/110288 [==============================] - 21s 192us/step - loss: 0.7641 - acc: 0.7645 - val_loss: nan - val_acc: 0.7656\n",
      "Epoch 24/40\n",
      "110288/110288 [==============================] - 21s 192us/step - loss: 0.7490 - acc: 0.7682 - val_loss: nan - val_acc: 0.7700\n",
      "Epoch 25/40\n",
      "110288/110288 [==============================] - 21s 192us/step - loss: 0.7338 - acc: 0.7721 - val_loss: nan - val_acc: 0.7739\n",
      "Epoch 26/40\n",
      "110288/110288 [==============================] - 21s 192us/step - loss: 0.7173 - acc: 0.7770 - val_loss: nan - val_acc: 0.7782\n",
      "Epoch 27/40\n",
      "110288/110288 [==============================] - 21s 192us/step - loss: 0.7083 - acc: 0.7796 - val_loss: nan - val_acc: 0.7812\n",
      "Epoch 28/40\n",
      "110288/110288 [==============================] - 21s 192us/step - loss: 0.6906 - acc: 0.7855 - val_loss: nan - val_acc: 0.7862\n",
      "Epoch 29/40\n",
      "110288/110288 [==============================] - 21s 192us/step - loss: 0.6767 - acc: 0.7898 - val_loss: nan - val_acc: 0.7899\n",
      "Epoch 30/40\n",
      "110288/110288 [==============================] - 21s 192us/step - loss: 0.6656 - acc: 0.7931 - val_loss: nan - val_acc: 0.7915\n",
      "Epoch 31/40\n",
      "110288/110288 [==============================] - 21s 193us/step - loss: 0.6510 - acc: 0.7977 - val_loss: nan - val_acc: 0.8008\n",
      "Epoch 32/40\n",
      "110288/110288 [==============================] - 21s 192us/step - loss: 0.6369 - acc: 0.8024 - val_loss: nan - val_acc: 0.8024\n",
      "Epoch 33/40\n",
      "110288/110288 [==============================] - 21s 192us/step - loss: 0.6233 - acc: 0.8062 - val_loss: nan - val_acc: 0.8067\n",
      "Epoch 34/40\n",
      "110288/110288 [==============================] - 21s 192us/step - loss: 0.6111 - acc: 0.8102 - val_loss: nan - val_acc: 0.8122\n",
      "Epoch 35/40\n",
      "110288/110288 [==============================] - 21s 192us/step - loss: 0.6012 - acc: 0.8130 - val_loss: nan - val_acc: 0.8084\n",
      "Epoch 36/40\n",
      "110288/110288 [==============================] - 21s 192us/step - loss: 0.5908 - acc: 0.8162 - val_loss: nan - val_acc: 0.8168\n",
      "Epoch 37/40\n",
      "110288/110288 [==============================] - 21s 192us/step - loss: 0.5753 - acc: 0.8215 - val_loss: nan - val_acc: 0.8195\n",
      "Epoch 38/40\n",
      "110288/110288 [==============================] - 21s 192us/step - loss: 0.5663 - acc: 0.8237 - val_loss: nan - val_acc: 0.8246\n",
      "Epoch 39/40\n",
      "110288/110288 [==============================] - 21s 192us/step - loss: 0.5589 - acc: 0.8257 - val_loss: nan - val_acc: 0.8270\n",
      "Epoch 40/40\n",
      "110288/110288 [==============================] - 21s 192us/step - loss: 0.5486 - acc: 0.8290 - val_loss: nan - val_acc: 0.8243\n"
     ]
    },
    {
     "data": {
      "image/png": "[encoded data removed]",
      "text/plain": [
       "<matplotlib.figure.Figure at 0x7fe2f8b647b8>"
      ]
     },
     "metadata": {
      "needs_background": "light"
     },
     "output_type": "display_data"
    },
    {
     "data": {
      "image/png": "[encoded data removed]",
      "text/plain": [
       "<matplotlib.figure.Figure at 0x7fe2f93c6ba8>"
      ]
     },
     "metadata": {
      "needs_background": "light"
     },
     "output_type": "display_data"
    },
    {
     "name": "stdout",
     "output_type": "stream",
     "text": [
      "new jersey est parfois doux à l'automne automne il il est en est <PAD> <PAD> <PAD> <PAD> <PAD> <PAD> <PAD> <PAD>\n"
     ]
    }
   ],
   "source": [
    "def model_final(input_shape, output_sequence_length, english_vocab_size, french_vocab_size):\n",
    "    \"\"\"\n",
    "    Build and train a model that incorporates embedding, encoder-decoder, and bidirectional RNN on x and y\n",
    "    :param input_shape: Tuple of input shape\n",
    "    :param output_sequence_length: Length of output sequence\n",
    "    :param english_vocab_size: Number of unique English words in the dataset\n",
    "    :param french_vocab_size: Number of unique French words in the dataset\n",
    "    :return: Keras model built, but not trained\n",
    "    \"\"\"\n",
    "    # TODO: Implement\n",
    "    learning_rate = 0.001\n",
    "    encdec_dim = 128\n",
    "    \n",
    "    inputs = Input(input_shape[1:])\n",
    "    embed = Embedding(english_vocab_size, 16, input_length=output_sequence_length)(inputs)\n",
    "    # Encoder\n",
    "    encoder_rnn = Bidirectional(GRU(output_sequence_length))(embed)\n",
    "    #encoder_out = Dense(encdec_dim, activation = 'relu')(encoder_rnn)\n",
    "    \n",
    "    # Decoder\n",
    "    decoder_in = RepeatVector(output_sequence_length)(encoder_rnn)\n",
    "    decoder_rnn = Bidirectional(GRU(encdec_dim, return_sequences=True))(decoder_in)    \n",
    "    logits = TimeDistributed(Dense(french_vocab_size))(decoder_rnn)\n",
    "    \n",
    "       \n",
    "    model = Model(inputs, Activation('softmax')(logits))\n",
    "    model.compile(loss=sparse_categorical_crossentropy,\n",
    "                  optimizer=Adam(learning_rate),\n",
    "                  metrics=['accuracy']\n",
    "                 )\n",
    "    \n",
    "    return model\n",
    "\n",
    "tests.test_model_final(model_final)\n",
    "\n",
    "\n",
    "print('Final Model Loaded')\n",
    "# TODO: Train the final model\n",
    "final_rnn_model = model_final(tmp_x.shape,\n",
    "                              max_french_sequence_length,\n",
    "                              english_vocab_size,\n",
    "                              french_vocab_size\n",
    "                               )\n",
    "final_rnn_model.summary()\n",
    "history = final_rnn_model.fit(tmp_x,\n",
    "                              preproc_french_sentences,\n",
    "                              batch_size=1024,\n",
    "                              epochs=40,\n",
    "                              validation_split=0.2\n",
    "                              )\n",
    "\n",
    "plotting_results(history)\n",
    "# Print prediction(s)\n",
    "print(logits_to_text(final_rnn_model.predict(tmp_x[:1])[0], french_tokenizer))"
   ]
  },
  {
   "cell_type": "markdown",
   "metadata": {},
   "source": [
    "## Prediction (IMPLEMENTATION)"
   ]
  },
  {
   "cell_type": "code",
   "execution_count": 47,
   "metadata": {},
   "outputs": [
    {
     "name": "stdout",
     "output_type": "stream",
     "text": [
      "_________________________________________________________________\n",
      "Layer (type)                 Output Shape              Param #   \n",
      "=================================================================\n",
      "input_37 (InputLayer)        (None, 15)                0         \n",
      "_________________________________________________________________\n",
      "embedding_32 (Embedding)     (None, 21, 16)            3200      \n",
      "_________________________________________________________________\n",
      "bidirectional_30 (Bidirectio (None, 42)                4788      \n",
      "_________________________________________________________________\n",
      "repeat_vector_23 (RepeatVect (None, 21, 42)            0         \n",
      "_________________________________________________________________\n",
      "bidirectional_31 (Bidirectio (None, 21, 256)           131328    \n",
      "_________________________________________________________________\n",
      "time_distributed_23 (TimeDis (None, 21, 344)           88408     \n",
      "_________________________________________________________________\n",
      "activation_23 (Activation)   (None, 21, 344)           0         \n",
      "=================================================================\n",
      "Total params: 227,724\n",
      "Trainable params: 227,724\n",
      "Non-trainable params: 0\n",
      "_________________________________________________________________\n",
      "Train on 110288 samples, validate on 27573 samples\n",
      "Epoch 1/40\n",
      "110288/110288 [==============================] - 23s 204us/step - loss: 3.2654 - acc: 0.4252 - val_loss: nan - val_acc: 0.4636\n",
      "Epoch 2/40\n",
      "110288/110288 [==============================] - 19s 174us/step - loss: 2.4567 - acc: 0.4817 - val_loss: nan - val_acc: 0.4949\n",
      "Epoch 3/40\n",
      "110288/110288 [==============================] - 19s 175us/step - loss: 1.9911 - acc: 0.5045 - val_loss: nan - val_acc: 0.5183\n",
      "Epoch 4/40\n",
      "110288/110288 [==============================] - 19s 175us/step - loss: 1.7802 - acc: 0.5425 - val_loss: nan - val_acc: 0.5686\n",
      "Epoch 5/40\n",
      "110288/110288 [==============================] - 19s 175us/step - loss: 1.5661 - acc: 0.5811 - val_loss: nan - val_acc: 0.5971\n",
      "Epoch 6/40\n",
      "110288/110288 [==============================] - 19s 174us/step - loss: 1.4264 - acc: 0.6075 - val_loss: nan - val_acc: 0.6190\n",
      "Epoch 7/40\n",
      "110288/110288 [==============================] - 19s 174us/step - loss: 1.3298 - acc: 0.6315 - val_loss: nan - val_acc: 0.6417\n",
      "Epoch 8/40\n",
      "110288/110288 [==============================] - 19s 174us/step - loss: 1.2457 - acc: 0.6521 - val_loss: nan - val_acc: 0.6657\n",
      "Epoch 9/40\n",
      "110288/110288 [==============================] - 19s 175us/step - loss: 1.1721 - acc: 0.6742 - val_loss: nan - val_acc: 0.6826\n",
      "Epoch 10/40\n",
      "110288/110288 [==============================] - 19s 174us/step - loss: 1.1090 - acc: 0.6876 - val_loss: nan - val_acc: 0.6931\n",
      "Epoch 11/40\n",
      "110288/110288 [==============================] - 19s 174us/step - loss: 1.0573 - acc: 0.6957 - val_loss: nan - val_acc: 0.6988\n",
      "Epoch 12/40\n",
      "110288/110288 [==============================] - 19s 175us/step - loss: 1.0199 - acc: 0.7024 - val_loss: nan - val_acc: 0.7073\n",
      "Epoch 13/40\n",
      "110288/110288 [==============================] - 19s 174us/step - loss: 0.9813 - acc: 0.7122 - val_loss: nan - val_acc: 0.7159\n",
      "Epoch 14/40\n",
      "110288/110288 [==============================] - 19s 174us/step - loss: 0.9530 - acc: 0.7192 - val_loss: nan - val_acc: 0.7171\n",
      "Epoch 15/40\n",
      "110288/110288 [==============================] - 19s 175us/step - loss: 0.9272 - acc: 0.7246 - val_loss: nan - val_acc: 0.7255\n",
      "Epoch 16/40\n",
      "110288/110288 [==============================] - 19s 174us/step - loss: 0.9048 - acc: 0.7296 - val_loss: nan - val_acc: 0.7307\n",
      "Epoch 17/40\n",
      "110288/110288 [==============================] - 19s 174us/step - loss: 0.8810 - acc: 0.7348 - val_loss: nan - val_acc: 0.7349\n",
      "Epoch 18/40\n",
      "110288/110288 [==============================] - 19s 174us/step - loss: 0.8616 - acc: 0.7394 - val_loss: nan - val_acc: 0.7380\n",
      "Epoch 19/40\n",
      "110288/110288 [==============================] - 19s 174us/step - loss: 0.8439 - acc: 0.7436 - val_loss: nan - val_acc: 0.7448\n",
      "Epoch 20/40\n",
      "110288/110288 [==============================] - 19s 174us/step - loss: 0.8236 - acc: 0.7491 - val_loss: nan - val_acc: 0.7514\n",
      "Epoch 21/40\n",
      "110288/110288 [==============================] - 19s 174us/step - loss: 0.8105 - acc: 0.7527 - val_loss: nan - val_acc: 0.7551\n",
      "Epoch 22/40\n",
      "110288/110288 [==============================] - 19s 174us/step - loss: 0.7893 - acc: 0.7584 - val_loss: nan - val_acc: 0.7615\n",
      "Epoch 23/40\n",
      "110288/110288 [==============================] - 19s 174us/step - loss: 0.7686 - acc: 0.7642 - val_loss: nan - val_acc: 0.7653\n",
      "Epoch 24/40\n",
      "110288/110288 [==============================] - 19s 174us/step - loss: 0.7514 - acc: 0.7686 - val_loss: nan - val_acc: 0.7679\n",
      "Epoch 25/40\n",
      "110288/110288 [==============================] - 19s 174us/step - loss: 0.7342 - acc: 0.7732 - val_loss: nan - val_acc: 0.7747\n",
      "Epoch 26/40\n",
      "110288/110288 [==============================] - 19s 174us/step - loss: 0.7095 - acc: 0.7807 - val_loss: nan - val_acc: 0.7836\n",
      "Epoch 27/40\n",
      "110288/110288 [==============================] - 19s 174us/step - loss: 0.6950 - acc: 0.7844 - val_loss: nan - val_acc: 0.7879\n",
      "Epoch 28/40\n",
      "110288/110288 [==============================] - 19s 174us/step - loss: 0.6751 - acc: 0.7900 - val_loss: nan - val_acc: 0.7927\n",
      "Epoch 29/40\n",
      "110288/110288 [==============================] - 19s 174us/step - loss: 0.6593 - acc: 0.7944 - val_loss: nan - val_acc: 0.7956\n",
      "Epoch 30/40\n",
      "110288/110288 [==============================] - 19s 174us/step - loss: 0.6444 - acc: 0.7989 - val_loss: nan - val_acc: 0.7989\n",
      "Epoch 31/40\n",
      "110288/110288 [==============================] - 19s 174us/step - loss: 0.6299 - acc: 0.8030 - val_loss: nan - val_acc: 0.8030\n",
      "Epoch 32/40\n",
      "110288/110288 [==============================] - 19s 174us/step - loss: 0.6149 - acc: 0.8073 - val_loss: nan - val_acc: 0.8097\n",
      "Epoch 33/40\n",
      "110288/110288 [==============================] - 19s 174us/step - loss: 0.5995 - acc: 0.8126 - val_loss: nan - val_acc: 0.8097\n",
      "Epoch 34/40\n",
      "110288/110288 [==============================] - 19s 174us/step - loss: 0.5889 - acc: 0.8156 - val_loss: nan - val_acc: 0.8064\n",
      "Epoch 35/40\n",
      "110288/110288 [==============================] - 19s 173us/step - loss: 0.5758 - acc: 0.8196 - val_loss: nan - val_acc: 0.8191\n",
      "Epoch 36/40\n",
      "110288/110288 [==============================] - 19s 174us/step - loss: 0.5646 - acc: 0.8231 - val_loss: nan - val_acc: 0.8247\n",
      "Epoch 37/40\n",
      "110288/110288 [==============================] - 19s 174us/step - loss: 0.5516 - acc: 0.8271 - val_loss: nan - val_acc: 0.8256\n",
      "Epoch 38/40\n",
      "110288/110288 [==============================] - 19s 174us/step - loss: 0.5462 - acc: 0.8286 - val_loss: nan - val_acc: 0.8305\n",
      "Epoch 39/40\n",
      "110288/110288 [==============================] - 19s 174us/step - loss: 0.5299 - acc: 0.8341 - val_loss: nan - val_acc: 0.8347\n",
      "Epoch 40/40\n",
      "110288/110288 [==============================] - 19s 174us/step - loss: 0.5208 - acc: 0.8370 - val_loss: nan - val_acc: 0.8387\n",
      "Sample 1:\n",
      "il a vu un vieux camion rouge <PAD> <PAD> <PAD> <PAD> <PAD> <PAD> <PAD> <PAD> <PAD> <PAD> <PAD> <PAD> <PAD> <PAD>\n",
      "Il a vu un vieux camion jaune\n",
      "Sample 2:\n",
      "new jersey est parfois calme au l'automne et il automne et en en <PAD> <PAD> <PAD> <PAD> <PAD> <PAD> <PAD> <PAD>\n",
      "new jersey est parfois calme pendant l' automne et il est neigeux en avril <PAD> <PAD> <PAD> <PAD> <PAD> <PAD> <PAD>\n"
     ]
    }
   ],
   "source": [
    "def final_predictions(x, y, x_tk, y_tk):\n",
    "    \"\"\"\n",
    "    Gets predictions using the final model\n",
    "    :param x: Preprocessed English data\n",
    "    :param y: Preprocessed French data\n",
    "    :param x_tk: English tokenizer\n",
    "    :param y_tk: French tokenizer\n",
    "    \"\"\"\n",
    "    # TODO: Train neural network using model_final\n",
    "        \n",
    "    model = model_final(x.shape, y.shape[1], len(x_tk.word_index)+1, len(y_tk.word_index))\n",
    "    model.summary()\n",
    "    model.fit(x, y, batch_size=1024, epochs=40, validation_split=0.2)\n",
    "\n",
    "    \n",
    "    ## DON'T EDIT ANYTHING BELOW THIS LINE\n",
    "    y_id_to_word = {value: key for key, value in y_tk.word_index.items()}\n",
    "    y_id_to_word[0] = '<PAD>'\n",
    "\n",
    "    sentence = 'he saw a old yellow truck'\n",
    "    sentence = [x_tk.word_index[word] for word in sentence.split()]\n",
    "    sentence = pad_sequences([sentence], maxlen=x.shape[-1], padding='post')\n",
    "    sentences = np.array([sentence[0], x[0]])\n",
    "    predictions = model.predict(sentences, len(sentences))\n",
    "\n",
    "    print('Sample 1:')\n",
    "    print(' '.join([y_id_to_word[np.argmax(x)] for x in predictions[0]]))\n",
    "    print('Il a vu un vieux camion jaune')\n",
    "    print('Sample 2:')\n",
    "    print(' '.join([y_id_to_word[np.argmax(x)] for x in predictions[1]]))\n",
    "    print(' '.join([y_id_to_word[np.max(x)] for x in y[0]]))\n",
    "\n",
    "\n",
    "final_predictions(preproc_english_sentences, preproc_french_sentences, english_tokenizer, french_tokenizer)"
   ]
  },
  {
   "cell_type": "markdown",
   "metadata": {},
   "source": [
    "## Submission\n",
    "When you're ready to submit, complete the following steps:\n",
    "1. Review the [rubric](https://review.udacity.com/#!/rubrics/1004/view) to ensure your submission meets all requirements to pass\n",
    "2. Generate an HTML version of this notebook\n",
    "\n",
    "  - Run the next cell to attempt automatic generation (this is the recommended method in Workspaces)\n",
    "  - Navigate to **FILE -> Download as -> HTML (.html)**\n",
    "  - Manually generate a copy using `nbconvert` from your shell terminal\n",
    "```\n",
    "$ pip install nbconvert\n",
    "$ python -m nbconvert machine_translation.ipynb\n",
    "```\n",
    "  \n",
    "3. Submit the project\n",
    "\n",
    "  - If you are in a Workspace, simply click the \"Submit Project\" button (bottom towards the right)\n",
    "  \n",
    "  - Otherwise, add the following files into a zip archive and submit them \n",
    "  - `helper.py`\n",
    "  - `machine_translation.ipynb`\n",
    "  - `machine_translation.html`\n",
    "    - You can export the notebook by navigating to **File -> Download as -> HTML (.html)**."
   ]
  },
  {
   "cell_type": "markdown",
   "metadata": {},
   "source": [
    "### Generate the html\n",
    "\n",
    "**Save your notebook before running the next cell to generate the HTML output.** Then submit your project."
   ]
  },
  {
   "cell_type": "code",
   "execution_count": 49,
   "metadata": {},
   "outputs": [
    {
     "data": {
      "text/plain": [
       "['[NbConvertApp] Converting notebook machine_translation.ipynb to html',\n",
       " '[NbConvertApp] Writing 552713 bytes to machine_translation.html',\n",
       " '[NbConvertApp] Converting notebook machine_translation-zh.ipynb to html',\n",
       " '[NbConvertApp] Writing 328614 bytes to machine_translation-zh.html']"
      ]
     },
     "execution_count": 49,
     "metadata": {},
     "output_type": "execute_result"
    }
   ],
   "source": [
    "# Save before you run this cell!\n",
    "!!jupyter nbconvert *.ipynb"
   ]
  },
  {
   "cell_type": "markdown",
   "metadata": {},
   "source": [
    "## Optional Enhancements\n",
    "\n",
    "This project focuses on learning various network architectures for machine translation, but we don't evaluate the models according to best practices by splitting the data into separate test & training sets -- so the model accuracy is overstated. Use the [`sklearn.model_selection.train_test_split()`](http://scikit-learn.org/stable/modules/generated/sklearn.model_selection.train_test_split.html) function to create separate training & test datasets, then retrain each of the models using only the training set and evaluate the prediction accuracy using the hold out test set. Does the \"best\" model change?"
   ]
  }
 ],
 "metadata": {
  "kernelspec": {
   "display_name": "Python 3",
   "language": "python",
   "name": "python3"
  },
  "language_info": {
   "codemirror_mode": {
    "name": "ipython",
    "version": 3
   },
   "file_extension": ".py",
   "mimetype": "text/x-python",
   "name": "python",
   "nbconvert_exporter": "python",
   "pygments_lexer": "ipython3",
   "version": "3.6.3"
  }
 },
 "nbformat": 4,
 "nbformat_minor": 1
}
